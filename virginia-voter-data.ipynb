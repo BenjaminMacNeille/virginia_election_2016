{
 "cells": [
  {
   "cell_type": "code",
   "execution_count": 1,
   "metadata": {},
   "outputs": [
    {
     "data": {
      "text/html": [
       "<script type=\"text/javascript\">window.PlotlyConfig = {MathJaxConfig: 'local'};</script><script type=\"text/javascript\">if (window.MathJax) {MathJax.Hub.Config({SVG: {font: \"STIX-Web\"}});}</script><script>requirejs.config({paths: { 'plotly': ['https://cdn.plot.ly/plotly-latest.min']},});if(!window._Plotly) {require(['plotly'],function(plotly) {window._Plotly=plotly;});}</script>"
      ],
      "text/vnd.plotly.v1+html": [
       "<script type=\"text/javascript\">window.PlotlyConfig = {MathJaxConfig: 'local'};</script><script type=\"text/javascript\">if (window.MathJax) {MathJax.Hub.Config({SVG: {font: \"STIX-Web\"}});}</script><script>requirejs.config({paths: { 'plotly': ['https://cdn.plot.ly/plotly-latest.min']},});if(!window._Plotly) {require(['plotly'],function(plotly) {window._Plotly=plotly;});}</script>"
      ]
     },
     "metadata": {},
     "output_type": "display_data"
    }
   ],
   "source": [
    "from plotly.offline import download_plotlyjs, init_notebook_mode, plot, iplot\n",
    "init_notebook_mode(connected=True)\n",
    "\n",
    "import plotly.plotly as py\n",
    "import plotly.graph_objs as go\n",
    "from plotly.graph_objs import *\n",
    "\n",
    "import pandas as pd"
   ]
  },
  {
   "cell_type": "code",
   "execution_count": 2,
   "metadata": {},
   "outputs": [
    {
     "name": "stderr",
     "output_type": "stream",
     "text": [
      "C:\\Users\\alasseter\\AppData\\Local\\Continuum\\anaconda3\\lib\\site-packages\\pandas\\core\\indexing.py:543: SettingWithCopyWarning:\n",
      "\n",
      "\n",
      "A value is trying to be set on a copy of a slice from a DataFrame.\n",
      "Try using .loc[row_indexer,col_indexer] = value instead\n",
      "\n",
      "See the caveats in the documentation: http://pandas.pydata.org/pandas-docs/stable/indexing.html#indexing-view-versus-copy\n",
      "\n"
     ]
    }
   ],
   "source": [
    "\n",
    "df0 = pd.read_csv('Virginia.csv')\n",
    "df1=df0[['county_name', 'jurisdiction', 'precinct', 'candidate', 'votes']]\n",
    "df1.loc[(df1['candidate']!='Hillary Clinton') & (df1['candidate']!='Donald Trump'), 'candidate']='Other'\n"
   ]
  },
  {
   "cell_type": "code",
   "execution_count": 3,
   "metadata": {},
   "outputs": [
    {
     "data": {
      "text/html": [
       "<div>\n",
       "<style scoped>\n",
       "    .dataframe tbody tr th:only-of-type {\n",
       "        vertical-align: middle;\n",
       "    }\n",
       "\n",
       "    .dataframe tbody tr th {\n",
       "        vertical-align: top;\n",
       "    }\n",
       "\n",
       "    .dataframe thead th {\n",
       "        text-align: right;\n",
       "    }\n",
       "</style>\n",
       "<table border=\"1\" class=\"dataframe\">\n",
       "  <thead>\n",
       "    <tr style=\"text-align: right;\">\n",
       "      <th></th>\n",
       "      <th>county_name</th>\n",
       "      <th>jurisdiction</th>\n",
       "      <th>precinct</th>\n",
       "      <th>candidate</th>\n",
       "      <th>votes</th>\n",
       "    </tr>\n",
       "  </thead>\n",
       "  <tbody>\n",
       "    <tr>\n",
       "      <th>0</th>\n",
       "      <td>Accomack County</td>\n",
       "      <td>ACCOMACK COUNTY</td>\n",
       "      <td># AB - Central Absentee Precinct</td>\n",
       "      <td>Hillary Clinton</td>\n",
       "      <td>784</td>\n",
       "    </tr>\n",
       "    <tr>\n",
       "      <th>1</th>\n",
       "      <td>Accomack County</td>\n",
       "      <td>ACCOMACK COUNTY</td>\n",
       "      <td># AB - Central Absentee Precinct</td>\n",
       "      <td>Other</td>\n",
       "      <td>32</td>\n",
       "    </tr>\n",
       "  </tbody>\n",
       "</table>\n",
       "</div>"
      ],
      "text/plain": [
       "       county_name     jurisdiction                          precinct  \\\n",
       "0  Accomack County  ACCOMACK COUNTY  # AB - Central Absentee Precinct   \n",
       "1  Accomack County  ACCOMACK COUNTY  # AB - Central Absentee Precinct   \n",
       "\n",
       "         candidate  votes  \n",
       "0  Hillary Clinton    784  \n",
       "1            Other     32  "
      ]
     },
     "execution_count": 3,
     "metadata": {},
     "output_type": "execute_result"
    }
   ],
   "source": [
    "df1.head(2)"
   ]
  },
  {
   "cell_type": "code",
   "execution_count": 95,
   "metadata": {},
   "outputs": [
    {
     "data": {
      "text/html": [
       "<div>\n",
       "<style scoped>\n",
       "    .dataframe tbody tr th:only-of-type {\n",
       "        vertical-align: middle;\n",
       "    }\n",
       "\n",
       "    .dataframe tbody tr th {\n",
       "        vertical-align: top;\n",
       "    }\n",
       "\n",
       "    .dataframe thead th {\n",
       "        text-align: right;\n",
       "    }\n",
       "</style>\n",
       "<table border=\"1\" class=\"dataframe\">\n",
       "  <thead>\n",
       "    <tr style=\"text-align: right;\">\n",
       "      <th></th>\n",
       "      <th></th>\n",
       "      <th></th>\n",
       "      <th></th>\n",
       "      <th>votes</th>\n",
       "    </tr>\n",
       "    <tr>\n",
       "      <th>county_name</th>\n",
       "      <th>jurisdiction</th>\n",
       "      <th>precinct</th>\n",
       "      <th>candidate</th>\n",
       "      <th></th>\n",
       "    </tr>\n",
       "  </thead>\n",
       "  <tbody>\n",
       "    <tr>\n",
       "      <th rowspan=\"6\" valign=\"top\">York County</th>\n",
       "      <th rowspan=\"6\" valign=\"top\">YORK COUNTY</th>\n",
       "      <th rowspan=\"3\" valign=\"top\">501 - TABB</th>\n",
       "      <th>Donald Trump</th>\n",
       "      <td>1705</td>\n",
       "    </tr>\n",
       "    <tr>\n",
       "      <th>Hillary Clinton</th>\n",
       "      <td>955</td>\n",
       "    </tr>\n",
       "    <tr>\n",
       "      <th>Other</th>\n",
       "      <td>179</td>\n",
       "    </tr>\n",
       "    <tr>\n",
       "      <th rowspan=\"3\" valign=\"top\">502 - BETHEL</th>\n",
       "      <th>Donald Trump</th>\n",
       "      <td>1496</td>\n",
       "    </tr>\n",
       "    <tr>\n",
       "      <th>Hillary Clinton</th>\n",
       "      <td>1184</td>\n",
       "    </tr>\n",
       "    <tr>\n",
       "      <th>Other</th>\n",
       "      <td>210</td>\n",
       "    </tr>\n",
       "  </tbody>\n",
       "</table>\n",
       "</div>"
      ],
      "text/plain": [
       "                                                       votes\n",
       "county_name jurisdiction precinct     candidate             \n",
       "York County YORK COUNTY  501 - TABB   Donald Trump      1705\n",
       "                                      Hillary Clinton    955\n",
       "                                      Other              179\n",
       "                         502 - BETHEL Donald Trump      1496\n",
       "                                      Hillary Clinton   1184\n",
       "                                      Other              210"
      ]
     },
     "execution_count": 95,
     "metadata": {},
     "output_type": "execute_result"
    }
   ],
   "source": [
    "df2=df1.groupby(['county_name', 'jurisdiction', 'precinct', 'candidate']).sum()\n",
    "df2.tail(6)"
   ]
  },
  {
   "cell_type": "code",
   "execution_count": 39,
   "metadata": {},
   "outputs": [
    {
     "data": {
      "text/html": [
       "<div>\n",
       "<style scoped>\n",
       "    .dataframe tbody tr th:only-of-type {\n",
       "        vertical-align: middle;\n",
       "    }\n",
       "\n",
       "    .dataframe tbody tr th {\n",
       "        vertical-align: top;\n",
       "    }\n",
       "\n",
       "    .dataframe thead tr th {\n",
       "        text-align: left;\n",
       "    }\n",
       "\n",
       "    .dataframe thead tr:last-of-type th {\n",
       "        text-align: right;\n",
       "    }\n",
       "</style>\n",
       "<table border=\"1\" class=\"dataframe\">\n",
       "  <thead>\n",
       "    <tr>\n",
       "      <th></th>\n",
       "      <th></th>\n",
       "      <th></th>\n",
       "      <th colspan=\"3\" halign=\"left\">votes</th>\n",
       "    </tr>\n",
       "    <tr>\n",
       "      <th></th>\n",
       "      <th></th>\n",
       "      <th>candidate</th>\n",
       "      <th>Donald Trump</th>\n",
       "      <th>Hillary Clinton</th>\n",
       "      <th>Other</th>\n",
       "    </tr>\n",
       "    <tr>\n",
       "      <th>county_name</th>\n",
       "      <th>jurisdiction</th>\n",
       "      <th>precinct</th>\n",
       "      <th></th>\n",
       "      <th></th>\n",
       "      <th></th>\n",
       "    </tr>\n",
       "  </thead>\n",
       "  <tbody>\n",
       "    <tr>\n",
       "      <th rowspan=\"5\" valign=\"top\">Accomack County</th>\n",
       "      <th rowspan=\"5\" valign=\"top\">ACCOMACK COUNTY</th>\n",
       "      <th># AB - Central Absentee Precinct</th>\n",
       "      <td>644</td>\n",
       "      <td>784</td>\n",
       "      <td>59</td>\n",
       "    </tr>\n",
       "    <tr>\n",
       "      <th>## Provisional</th>\n",
       "      <td>1</td>\n",
       "      <td>3</td>\n",
       "      <td>2</td>\n",
       "    </tr>\n",
       "    <tr>\n",
       "      <th>101 - CHINCOTEAGUE</th>\n",
       "      <td>1188</td>\n",
       "      <td>444</td>\n",
       "      <td>48</td>\n",
       "    </tr>\n",
       "    <tr>\n",
       "      <th>201 - ATLANTIC</th>\n",
       "      <td>553</td>\n",
       "      <td>175</td>\n",
       "      <td>22</td>\n",
       "    </tr>\n",
       "    <tr>\n",
       "      <th>202 - GREENBACKVILLE</th>\n",
       "      <td>697</td>\n",
       "      <td>302</td>\n",
       "      <td>31</td>\n",
       "    </tr>\n",
       "  </tbody>\n",
       "</table>\n",
       "</div>"
      ],
      "text/plain": [
       "                                                                        votes  \\\n",
       "candidate                                                        Donald Trump   \n",
       "county_name     jurisdiction    precinct                                        \n",
       "Accomack County ACCOMACK COUNTY # AB - Central Absentee Precinct          644   \n",
       "                                ## Provisional                              1   \n",
       "                                101 - CHINCOTEAGUE                       1188   \n",
       "                                201 - ATLANTIC                            553   \n",
       "                                202 - GREENBACKVILLE                      697   \n",
       "\n",
       "                                                                                  \\\n",
       "candidate                                                        Hillary Clinton   \n",
       "county_name     jurisdiction    precinct                                           \n",
       "Accomack County ACCOMACK COUNTY # AB - Central Absentee Precinct             784   \n",
       "                                ## Provisional                                 3   \n",
       "                                101 - CHINCOTEAGUE                           444   \n",
       "                                201 - ATLANTIC                               175   \n",
       "                                202 - GREENBACKVILLE                         302   \n",
       "\n",
       "                                                                        \n",
       "candidate                                                        Other  \n",
       "county_name     jurisdiction    precinct                                \n",
       "Accomack County ACCOMACK COUNTY # AB - Central Absentee Precinct    59  \n",
       "                                ## Provisional                       2  \n",
       "                                101 - CHINCOTEAGUE                  48  \n",
       "                                201 - ATLANTIC                      22  \n",
       "                                202 - GREENBACKVILLE                31  "
      ]
     },
     "execution_count": 39,
     "metadata": {},
     "output_type": "execute_result"
    }
   ],
   "source": [
    "df3=df2.unstack(level=-1)\n",
    "df3.head(5)"
   ]
  },
  {
   "cell_type": "code",
   "execution_count": 42,
   "metadata": {},
   "outputs": [
    {
     "data": {
      "text/html": [
       "<div>\n",
       "<style scoped>\n",
       "    .dataframe tbody tr th:only-of-type {\n",
       "        vertical-align: middle;\n",
       "    }\n",
       "\n",
       "    .dataframe tbody tr th {\n",
       "        vertical-align: top;\n",
       "    }\n",
       "\n",
       "    .dataframe thead tr th {\n",
       "        text-align: left;\n",
       "    }\n",
       "</style>\n",
       "<table border=\"1\" class=\"dataframe\">\n",
       "  <thead>\n",
       "    <tr>\n",
       "      <th></th>\n",
       "      <th>county_name</th>\n",
       "      <th>jurisdiction</th>\n",
       "      <th>precinct</th>\n",
       "      <th colspan=\"3\" halign=\"left\">votes</th>\n",
       "    </tr>\n",
       "    <tr>\n",
       "      <th>candidate</th>\n",
       "      <th></th>\n",
       "      <th></th>\n",
       "      <th></th>\n",
       "      <th>Donald Trump</th>\n",
       "      <th>Hillary Clinton</th>\n",
       "      <th>Other</th>\n",
       "    </tr>\n",
       "  </thead>\n",
       "  <tbody>\n",
       "    <tr>\n",
       "      <th>0</th>\n",
       "      <td>Accomack County</td>\n",
       "      <td>ACCOMACK COUNTY</td>\n",
       "      <td># AB - Central Absentee Precinct</td>\n",
       "      <td>644</td>\n",
       "      <td>784</td>\n",
       "      <td>59</td>\n",
       "    </tr>\n",
       "    <tr>\n",
       "      <th>1</th>\n",
       "      <td>Accomack County</td>\n",
       "      <td>ACCOMACK COUNTY</td>\n",
       "      <td>## Provisional</td>\n",
       "      <td>1</td>\n",
       "      <td>3</td>\n",
       "      <td>2</td>\n",
       "    </tr>\n",
       "    <tr>\n",
       "      <th>2</th>\n",
       "      <td>Accomack County</td>\n",
       "      <td>ACCOMACK COUNTY</td>\n",
       "      <td>101 - CHINCOTEAGUE</td>\n",
       "      <td>1188</td>\n",
       "      <td>444</td>\n",
       "      <td>48</td>\n",
       "    </tr>\n",
       "    <tr>\n",
       "      <th>3</th>\n",
       "      <td>Accomack County</td>\n",
       "      <td>ACCOMACK COUNTY</td>\n",
       "      <td>201 - ATLANTIC</td>\n",
       "      <td>553</td>\n",
       "      <td>175</td>\n",
       "      <td>22</td>\n",
       "    </tr>\n",
       "    <tr>\n",
       "      <th>4</th>\n",
       "      <td>Accomack County</td>\n",
       "      <td>ACCOMACK COUNTY</td>\n",
       "      <td>202 - GREENBACKVILLE</td>\n",
       "      <td>697</td>\n",
       "      <td>302</td>\n",
       "      <td>31</td>\n",
       "    </tr>\n",
       "  </tbody>\n",
       "</table>\n",
       "</div>"
      ],
      "text/plain": [
       "               county_name     jurisdiction                          precinct  \\\n",
       "candidate                                                                       \n",
       "0          Accomack County  ACCOMACK COUNTY  # AB - Central Absentee Precinct   \n",
       "1          Accomack County  ACCOMACK COUNTY                    ## Provisional   \n",
       "2          Accomack County  ACCOMACK COUNTY                101 - CHINCOTEAGUE   \n",
       "3          Accomack County  ACCOMACK COUNTY                    201 - ATLANTIC   \n",
       "4          Accomack County  ACCOMACK COUNTY              202 - GREENBACKVILLE   \n",
       "\n",
       "                 votes                        \n",
       "candidate Donald Trump Hillary Clinton Other  \n",
       "0                  644             784    59  \n",
       "1                    1               3     2  \n",
       "2                 1188             444    48  \n",
       "3                  553             175    22  \n",
       "4                  697             302    31  "
      ]
     },
     "execution_count": 42,
     "metadata": {},
     "output_type": "execute_result"
    }
   ],
   "source": [
    "df4=df3.reset_index()\n",
    "df4.head()"
   ]
  },
  {
   "cell_type": "code",
   "execution_count": 48,
   "metadata": {},
   "outputs": [
    {
     "data": {
      "text/plain": [
       "Index(['Donald Trump', 'Hillary Clinton', 'Other'], dtype='object', name='candidate')"
      ]
     },
     "execution_count": 48,
     "metadata": {},
     "output_type": "execute_result"
    }
   ],
   "source": [
    "df4['votes'].columns"
   ]
  },
  {
   "cell_type": "code",
   "execution_count": 46,
   "metadata": {},
   "outputs": [
    {
     "data": {
      "text/plain": [
       "644"
      ]
     },
     "execution_count": 46,
     "metadata": {},
     "output_type": "execute_result"
    }
   ],
   "source": [
    "df4['votes']['Donald Trump'][0]"
   ]
  },
  {
   "cell_type": "code",
   "execution_count": 97,
   "metadata": {},
   "outputs": [
    {
     "data": {
      "text/plain": [
       "'ACCOMACK COUNTY'"
      ]
     },
     "execution_count": 97,
     "metadata": {},
     "output_type": "execute_result"
    }
   ],
   "source": [
    "df4['jurisdiction'][0]"
   ]
  },
  {
   "cell_type": "code",
   "execution_count": 102,
   "metadata": {},
   "outputs": [
    {
     "data": {
      "text/html": [
       "<div>\n",
       "<style scoped>\n",
       "    .dataframe tbody tr th:only-of-type {\n",
       "        vertical-align: middle;\n",
       "    }\n",
       "\n",
       "    .dataframe tbody tr th {\n",
       "        vertical-align: top;\n",
       "    }\n",
       "\n",
       "    .dataframe thead tr th {\n",
       "        text-align: left;\n",
       "    }\n",
       "</style>\n",
       "<table border=\"1\" class=\"dataframe\">\n",
       "  <thead>\n",
       "    <tr>\n",
       "      <th></th>\n",
       "      <th>county_name</th>\n",
       "      <th>jurisdiction</th>\n",
       "      <th>precinct</th>\n",
       "      <th colspan=\"3\" halign=\"left\">votes</th>\n",
       "    </tr>\n",
       "    <tr>\n",
       "      <th>candidate</th>\n",
       "      <th></th>\n",
       "      <th></th>\n",
       "      <th></th>\n",
       "      <th>Donald Trump</th>\n",
       "      <th>Hillary Clinton</th>\n",
       "      <th>Other</th>\n",
       "    </tr>\n",
       "  </thead>\n",
       "  <tbody>\n",
       "    <tr>\n",
       "      <th>0</th>\n",
       "      <td>Accomack County</td>\n",
       "      <td>ACCOMACK COUNTY</td>\n",
       "      <td># AB - Central Absentee Precinct</td>\n",
       "      <td>644</td>\n",
       "      <td>784</td>\n",
       "      <td>59</td>\n",
       "    </tr>\n",
       "    <tr>\n",
       "      <th>1</th>\n",
       "      <td>Accomack County</td>\n",
       "      <td>ACCOMACK COUNTY</td>\n",
       "      <td>## Provisional</td>\n",
       "      <td>1</td>\n",
       "      <td>3</td>\n",
       "      <td>2</td>\n",
       "    </tr>\n",
       "    <tr>\n",
       "      <th>2</th>\n",
       "      <td>Accomack County</td>\n",
       "      <td>ACCOMACK COUNTY</td>\n",
       "      <td>101 - CHINCOTEAGUE</td>\n",
       "      <td>1188</td>\n",
       "      <td>444</td>\n",
       "      <td>48</td>\n",
       "    </tr>\n",
       "    <tr>\n",
       "      <th>3</th>\n",
       "      <td>Accomack County</td>\n",
       "      <td>ACCOMACK COUNTY</td>\n",
       "      <td>201 - ATLANTIC</td>\n",
       "      <td>553</td>\n",
       "      <td>175</td>\n",
       "      <td>22</td>\n",
       "    </tr>\n",
       "    <tr>\n",
       "      <th>4</th>\n",
       "      <td>Accomack County</td>\n",
       "      <td>ACCOMACK COUNTY</td>\n",
       "      <td>202 - GREENBACKVILLE</td>\n",
       "      <td>697</td>\n",
       "      <td>302</td>\n",
       "      <td>31</td>\n",
       "    </tr>\n",
       "  </tbody>\n",
       "</table>\n",
       "</div>"
      ],
      "text/plain": [
       "               county_name     jurisdiction                          precinct  \\\n",
       "candidate                                                                       \n",
       "0          Accomack County  ACCOMACK COUNTY  # AB - Central Absentee Precinct   \n",
       "1          Accomack County  ACCOMACK COUNTY                    ## Provisional   \n",
       "2          Accomack County  ACCOMACK COUNTY                101 - CHINCOTEAGUE   \n",
       "3          Accomack County  ACCOMACK COUNTY                    201 - ATLANTIC   \n",
       "4          Accomack County  ACCOMACK COUNTY              202 - GREENBACKVILLE   \n",
       "\n",
       "                 votes                        \n",
       "candidate Donald Trump Hillary Clinton Other  \n",
       "0                  644             784    59  \n",
       "1                    1               3     2  \n",
       "2                 1188             444    48  \n",
       "3                  553             175    22  \n",
       "4                  697             302    31  "
      ]
     },
     "execution_count": 102,
     "metadata": {},
     "output_type": "execute_result"
    }
   ],
   "source": [
    "accomack=df4[df4['jurisdiction']=='ACCOMACK COUNTY']\n",
    "accomack.head(5)"
   ]
  },
  {
   "cell_type": "code",
   "execution_count": 111,
   "metadata": {},
   "outputs": [
    {
     "name": "stdout",
     "output_type": "stream",
     "text": [
      "202 - GREENBACKVILLE\n"
     ]
    },
    {
     "data": {
      "text/plain": [
       "['# AB - Central Absentee Precinct',\n",
       " '802 - MELFA',\n",
       " '701 - NANDUA',\n",
       " '## Provisional',\n",
       " '403 - SAXIS',\n",
       " '202 - GREENBACKVILLE',\n",
       " '803 - WACHAPREAGUE',\n",
       " '901 - PAINTER']"
      ]
     },
     "execution_count": 111,
     "metadata": {},
     "output_type": "execute_result"
    }
   ],
   "source": [
    "precincts=list(accomack['precinct'].value_counts().index)\n",
    "print(precincts[5])\n",
    "precincts[:8]"
   ]
  },
  {
   "cell_type": "code",
   "execution_count": 123,
   "metadata": {},
   "outputs": [
    {
     "data": {
      "text/plain": [
       "[644,\n",
       " 1,\n",
       " 1188,\n",
       " 553,\n",
       " 697,\n",
       " 592,\n",
       " 342,\n",
       " 489,\n",
       " 153,\n",
       " 243,\n",
       " 119,\n",
       " 637,\n",
       " 221,\n",
       " 976,\n",
       " 369,\n",
       " 392,\n",
       " 349,\n",
       " 618]"
      ]
     },
     "execution_count": 123,
     "metadata": {},
     "output_type": "execute_result"
    }
   ],
   "source": [
    "list(accomack['votes']['Donald Trump'])"
   ]
  },
  {
   "cell_type": "code",
   "execution_count": null,
   "metadata": {},
   "outputs": [],
   "source": [
    "color=['#122A7F','#008080','#92A5E8']"
   ]
  },
  {
   "cell_type": "code",
   "execution_count": 132,
   "metadata": {},
   "outputs": [
    {
     "data": {
      "application/vnd.plotly.v1+json": {
       "config": {
        "linkText": "Export to plot.ly",
        "plotlyServerURL": "https://plot.ly",
        "showLink": false
       },
       "data": [
        {
         "marker": {
          "color": "#122A7F"
         },
         "name": "Trump",
         "type": "bar",
         "uid": "3a5a587b-7f2f-4ace-85aa-3bd81919b900",
         "x": [
          "# AB - Central Absentee Precinct",
          "802 - MELFA",
          "701 - NANDUA",
          "## Provisional",
          "403 - SAXIS",
          "202 - GREENBACKVILLE",
          "803 - WACHAPREAGUE",
          "901 - PAINTER",
          "801 - BOBTOWN",
          "502 - RUE",
          "401 - BLOXOM",
          "301 - NEW CHURCH",
          "101 - CHINCOTEAGUE",
          "201 - ATLANTIC",
          "602 - TANGIER",
          "601 - ACCOMAC",
          "501 - MAPPSVILLE",
          "402 - PARKSLEY"
         ],
         "y": [
          644,
          1,
          1188,
          553,
          697,
          592,
          342,
          489,
          153,
          243,
          119,
          637,
          221,
          976,
          369,
          392,
          349,
          618
         ]
        },
        {
         "marker": {
          "color": "#008080"
         },
         "name": "Clinton",
         "type": "bar",
         "uid": "5c9b72ca-ce91-4e5f-b780-1778d8c472b3",
         "x": [
          "# AB - Central Absentee Precinct",
          "802 - MELFA",
          "701 - NANDUA",
          "## Provisional",
          "403 - SAXIS",
          "202 - GREENBACKVILLE",
          "803 - WACHAPREAGUE",
          "901 - PAINTER",
          "801 - BOBTOWN",
          "502 - RUE",
          "401 - BLOXOM",
          "301 - NEW CHURCH",
          "101 - CHINCOTEAGUE",
          "201 - ATLANTIC",
          "602 - TANGIER",
          "601 - ACCOMAC",
          "501 - MAPPSVILLE",
          "402 - PARKSLEY"
         ],
         "y": [
          784,
          3,
          444,
          175,
          302,
          713,
          141,
          218,
          42,
          397,
          385,
          486,
          27,
          805,
          202,
          436,
          138,
          1042
         ]
        },
        {
         "marker": {
          "color": "#92A5E8"
         },
         "name": "Other",
         "type": "bar",
         "uid": "de78abb2-aefd-4fd7-a092-19c048376eea",
         "x": [
          "# AB - Central Absentee Precinct",
          "802 - MELFA",
          "701 - NANDUA",
          "## Provisional",
          "403 - SAXIS",
          "202 - GREENBACKVILLE",
          "803 - WACHAPREAGUE",
          "901 - PAINTER",
          "801 - BOBTOWN",
          "502 - RUE",
          "401 - BLOXOM",
          "301 - NEW CHURCH",
          "101 - CHINCOTEAGUE",
          "201 - ATLANTIC",
          "602 - TANGIER",
          "601 - ACCOMAC",
          "501 - MAPPSVILLE",
          "402 - PARKSLEY"
         ],
         "y": [
          59,
          2,
          48,
          22,
          31,
          33,
          13,
          29,
          5,
          23,
          17,
          41,
          5,
          75,
          23,
          22,
          9,
          38
         ]
        }
       ],
       "layout": {
        "title": {
         "text": "Grouped bar chart"
        },
        "xaxis": {
         "title": {
          "text": "Candidates"
         }
        },
        "yaxis": {
         "title": {
          "text": "Number of Votes"
         }
        }
       }
      },
      "text/html": [
       "<div id=\"f8a79cf1-3003-4bd7-b250-7e8041d34787\" style=\"height: 525px; width: 100%;\" class=\"plotly-graph-div\"></div><script type=\"text/javascript\">require([\"plotly\"], function(Plotly) { window.PLOTLYENV=window.PLOTLYENV || {};window.PLOTLYENV.BASE_URL=\"https://plot.ly\";\n",
       "if (document.getElementById(\"f8a79cf1-3003-4bd7-b250-7e8041d34787\")) {\n",
       "    Plotly.newPlot(\"f8a79cf1-3003-4bd7-b250-7e8041d34787\", [{\"marker\": {\"color\": \"#122A7F\"}, \"name\": \"Trump\", \"x\": [\"# AB - Central Absentee Precinct\", \"802 - MELFA\", \"701 - NANDUA\", \"## Provisional\", \"403 - SAXIS\", \"202 - GREENBACKVILLE\", \"803 - WACHAPREAGUE\", \"901 - PAINTER\", \"801 - BOBTOWN\", \"502 - RUE\", \"401 - BLOXOM\", \"301 - NEW CHURCH\", \"101 - CHINCOTEAGUE\", \"201 - ATLANTIC\", \"602 - TANGIER\", \"601 - ACCOMAC\", \"501 - MAPPSVILLE\", \"402 - PARKSLEY\"], \"y\": [644, 1, 1188, 553, 697, 592, 342, 489, 153, 243, 119, 637, 221, 976, 369, 392, 349, 618], \"type\": \"bar\", \"uid\": \"3a5a587b-7f2f-4ace-85aa-3bd81919b900\"}, {\"marker\": {\"color\": \"#008080\"}, \"name\": \"Clinton\", \"x\": [\"# AB - Central Absentee Precinct\", \"802 - MELFA\", \"701 - NANDUA\", \"## Provisional\", \"403 - SAXIS\", \"202 - GREENBACKVILLE\", \"803 - WACHAPREAGUE\", \"901 - PAINTER\", \"801 - BOBTOWN\", \"502 - RUE\", \"401 - BLOXOM\", \"301 - NEW CHURCH\", \"101 - CHINCOTEAGUE\", \"201 - ATLANTIC\", \"602 - TANGIER\", \"601 - ACCOMAC\", \"501 - MAPPSVILLE\", \"402 - PARKSLEY\"], \"y\": [784, 3, 444, 175, 302, 713, 141, 218, 42, 397, 385, 486, 27, 805, 202, 436, 138, 1042], \"type\": \"bar\", \"uid\": \"5c9b72ca-ce91-4e5f-b780-1778d8c472b3\"}, {\"marker\": {\"color\": \"#92A5E8\"}, \"name\": \"Other\", \"x\": [\"# AB - Central Absentee Precinct\", \"802 - MELFA\", \"701 - NANDUA\", \"## Provisional\", \"403 - SAXIS\", \"202 - GREENBACKVILLE\", \"803 - WACHAPREAGUE\", \"901 - PAINTER\", \"801 - BOBTOWN\", \"502 - RUE\", \"401 - BLOXOM\", \"301 - NEW CHURCH\", \"101 - CHINCOTEAGUE\", \"201 - ATLANTIC\", \"602 - TANGIER\", \"601 - ACCOMAC\", \"501 - MAPPSVILLE\", \"402 - PARKSLEY\"], \"y\": [59, 2, 48, 22, 31, 33, 13, 29, 5, 23, 17, 41, 5, 75, 23, 22, 9, 38], \"type\": \"bar\", \"uid\": \"de78abb2-aefd-4fd7-a092-19c048376eea\"}], {\"title\": {\"text\": \"Grouped bar chart\"}, \"xaxis\": {\"title\": {\"text\": \"Candidates\"}}, \"yaxis\": {\"title\": {\"text\": \"Number of Votes\"}}}, {\"showLink\": false, \"linkText\": \"Export to plot.ly\", \"plotlyServerURL\": \"https://plot.ly\"}); \n",
       "}\n",
       "});</script><script type=\"text/javascript\">window.addEventListener(\"resize\", function(){if (document.getElementById(\"f8a79cf1-3003-4bd7-b250-7e8041d34787\")) {window._Plotly.Plots.resize(document.getElementById(\"f8a79cf1-3003-4bd7-b250-7e8041d34787\"));};})</script>"
      ],
      "text/vnd.plotly.v1+html": [
       "<div id=\"f8a79cf1-3003-4bd7-b250-7e8041d34787\" style=\"height: 525px; width: 100%;\" class=\"plotly-graph-div\"></div><script type=\"text/javascript\">require([\"plotly\"], function(Plotly) { window.PLOTLYENV=window.PLOTLYENV || {};window.PLOTLYENV.BASE_URL=\"https://plot.ly\";\n",
       "if (document.getElementById(\"f8a79cf1-3003-4bd7-b250-7e8041d34787\")) {\n",
       "    Plotly.newPlot(\"f8a79cf1-3003-4bd7-b250-7e8041d34787\", [{\"marker\": {\"color\": \"#122A7F\"}, \"name\": \"Trump\", \"x\": [\"# AB - Central Absentee Precinct\", \"802 - MELFA\", \"701 - NANDUA\", \"## Provisional\", \"403 - SAXIS\", \"202 - GREENBACKVILLE\", \"803 - WACHAPREAGUE\", \"901 - PAINTER\", \"801 - BOBTOWN\", \"502 - RUE\", \"401 - BLOXOM\", \"301 - NEW CHURCH\", \"101 - CHINCOTEAGUE\", \"201 - ATLANTIC\", \"602 - TANGIER\", \"601 - ACCOMAC\", \"501 - MAPPSVILLE\", \"402 - PARKSLEY\"], \"y\": [644, 1, 1188, 553, 697, 592, 342, 489, 153, 243, 119, 637, 221, 976, 369, 392, 349, 618], \"type\": \"bar\", \"uid\": \"3a5a587b-7f2f-4ace-85aa-3bd81919b900\"}, {\"marker\": {\"color\": \"#008080\"}, \"name\": \"Clinton\", \"x\": [\"# AB - Central Absentee Precinct\", \"802 - MELFA\", \"701 - NANDUA\", \"## Provisional\", \"403 - SAXIS\", \"202 - GREENBACKVILLE\", \"803 - WACHAPREAGUE\", \"901 - PAINTER\", \"801 - BOBTOWN\", \"502 - RUE\", \"401 - BLOXOM\", \"301 - NEW CHURCH\", \"101 - CHINCOTEAGUE\", \"201 - ATLANTIC\", \"602 - TANGIER\", \"601 - ACCOMAC\", \"501 - MAPPSVILLE\", \"402 - PARKSLEY\"], \"y\": [784, 3, 444, 175, 302, 713, 141, 218, 42, 397, 385, 486, 27, 805, 202, 436, 138, 1042], \"type\": \"bar\", \"uid\": \"5c9b72ca-ce91-4e5f-b780-1778d8c472b3\"}, {\"marker\": {\"color\": \"#92A5E8\"}, \"name\": \"Other\", \"x\": [\"# AB - Central Absentee Precinct\", \"802 - MELFA\", \"701 - NANDUA\", \"## Provisional\", \"403 - SAXIS\", \"202 - GREENBACKVILLE\", \"803 - WACHAPREAGUE\", \"901 - PAINTER\", \"801 - BOBTOWN\", \"502 - RUE\", \"401 - BLOXOM\", \"301 - NEW CHURCH\", \"101 - CHINCOTEAGUE\", \"201 - ATLANTIC\", \"602 - TANGIER\", \"601 - ACCOMAC\", \"501 - MAPPSVILLE\", \"402 - PARKSLEY\"], \"y\": [59, 2, 48, 22, 31, 33, 13, 29, 5, 23, 17, 41, 5, 75, 23, 22, 9, 38], \"type\": \"bar\", \"uid\": \"de78abb2-aefd-4fd7-a092-19c048376eea\"}], {\"title\": {\"text\": \"Grouped bar chart\"}, \"xaxis\": {\"title\": {\"text\": \"Candidates\"}}, \"yaxis\": {\"title\": {\"text\": \"Number of Votes\"}}}, {\"showLink\": false, \"linkText\": \"Export to plot.ly\", \"plotlyServerURL\": \"https://plot.ly\"}); \n",
       "}\n",
       "});</script><script type=\"text/javascript\">window.addEventListener(\"resize\", function(){if (document.getElementById(\"f8a79cf1-3003-4bd7-b250-7e8041d34787\")) {window._Plotly.Plots.resize(document.getElementById(\"f8a79cf1-3003-4bd7-b250-7e8041d34787\"));};})</script>"
      ]
     },
     "metadata": {},
     "output_type": "display_data"
    }
   ],
   "source": [
    "# Let's display that with plotly.\n",
    "\n",
    "mydata1 = go.Bar(x=list(accomack['precinct'].value_counts().index), \n",
    "                 y=list(accomack['votes']['Donald Trump']), \n",
    "                 marker=dict(color='#122A7F'),\n",
    "                 name='Trump')\n",
    "mydata2 = go.Bar(x=list(accomack['precinct'].value_counts().index), \n",
    "                 y=list(accomack['votes']['Hillary Clinton']), \n",
    "                 marker=dict(color='#008080'),\n",
    "                 name='Clinton')\n",
    "mydata3 = go.Bar(x=list(accomack['precinct'].value_counts().index), \n",
    "                 y=list(accomack['votes']['Other']), \n",
    "                 marker=dict(color='#92A5E8'),\n",
    "                 name='Other')\n",
    "\n",
    "mylayout = go.Layout(\n",
    "    title='Grouped bar chart',\n",
    "    xaxis=dict(title='Candidates'),\n",
    "    yaxis=dict(title='Number of Votes')    \n",
    ")\n",
    "fig = go.Figure(data=[mydata1, mydata2, mydata3], layout=mylayout)\n",
    "iplot(fig)"
   ]
  },
  {
   "cell_type": "code",
   "execution_count": 142,
   "metadata": {},
   "outputs": [],
   "source": [
    "# Now turn that into a function.\n",
    "def juris_picker(juris_name):\n",
    "    juris_df=df4[df4['jurisdiction']==juris_name]\n",
    "    \n",
    "    mydata1 = go.Bar(x=list(juris_df['precinct'].value_counts().index), \n",
    "                     y=list(juris_df['votes']['Donald Trump']), \n",
    "                     marker=dict(color='#122A7F'),\n",
    "                     name='Trump')\n",
    "    mydata2 = go.Bar(x=list(juris_df['precinct'].value_counts().index), \n",
    "                     y=list(juris_df['votes']['Hillary Clinton']), \n",
    "                     marker=dict(color='#008080'),\n",
    "                     name='Clinton')\n",
    "    mydata3 = go.Bar(x=list(juris_df['precinct'].value_counts().index), \n",
    "                     y=list(juris_df['votes']['Other']), \n",
    "                     marker=dict(color='#92A5E8'),\n",
    "                     name='Other')\n",
    "\n",
    "    mylayout = go.Layout(\n",
    "        title='Votes by candidate for: {}'.format(juris_name),\n",
    "        xaxis=dict(title='Precincts'),\n",
    "        yaxis=dict(title='Number of Votes')    \n",
    "    )\n",
    "    fig = go.Figure(data=[mydata1, mydata2, mydata3], layout=mylayout)\n",
    "    iplot(fig)"
   ]
  },
  {
   "cell_type": "code",
   "execution_count": 143,
   "metadata": {},
   "outputs": [
    {
     "data": {
      "application/vnd.plotly.v1+json": {
       "config": {
        "linkText": "Export to plot.ly",
        "plotlyServerURL": "https://plot.ly",
        "showLink": false
       },
       "data": [
        {
         "marker": {
          "color": "#122A7F"
         },
         "name": "Trump",
         "type": "bar",
         "uid": "3c8fa4f4-15e9-4d64-86e5-e6addd366d60",
         "x": [
          "# AB - Central Absentee Precinct",
          "502 - BETHEL",
          "303 - EDGEHILL",
          "103 - MAGRUDER",
          "101 - QUEENS LAKE",
          "401 - HARWOODS MILL",
          "403 - GRAFTON",
          "302 - YORKTOWN",
          "102 - WALLER MILL",
          "501 - TABB",
          "301 - SEAFORD",
          "202 - KILN CREEK",
          "402 - DARE",
          "## Provisional",
          "201 - COVENTRY"
         ],
         "y": [
          1712,
          14,
          812,
          1127,
          925,
          1642,
          817,
          2019,
          1191,
          1066,
          1674,
          1792,
          845,
          1705,
          1496
         ]
        },
        {
         "marker": {
          "color": "#008080"
         },
         "name": "Clinton",
         "type": "bar",
         "uid": "72873577-ad44-424e-a4bf-e8b337f7fa99",
         "x": [
          "# AB - Central Absentee Precinct",
          "502 - BETHEL",
          "303 - EDGEHILL",
          "103 - MAGRUDER",
          "101 - QUEENS LAKE",
          "401 - HARWOODS MILL",
          "403 - GRAFTON",
          "302 - YORKTOWN",
          "102 - WALLER MILL",
          "501 - TABB",
          "301 - SEAFORD",
          "202 - KILN CREEK",
          "402 - DARE",
          "## Provisional",
          "201 - COVENTRY"
         ],
         "y": [
          1657,
          10,
          720,
          847,
          1516,
          1208,
          634,
          618,
          697,
          1005,
          714,
          768,
          466,
          955,
          1184
         ]
        },
        {
         "marker": {
          "color": "#92A5E8"
         },
         "name": "Other",
         "type": "bar",
         "uid": "e3ff18dd-fc5d-4620-a2f1-a34f23d97fae",
         "x": [
          "# AB - Central Absentee Precinct",
          "502 - BETHEL",
          "303 - EDGEHILL",
          "103 - MAGRUDER",
          "101 - QUEENS LAKE",
          "401 - HARWOODS MILL",
          "403 - GRAFTON",
          "302 - YORKTOWN",
          "102 - WALLER MILL",
          "501 - TABB",
          "301 - SEAFORD",
          "202 - KILN CREEK",
          "402 - DARE",
          "## Provisional",
          "201 - COVENTRY"
         ],
         "y": [
          275,
          4,
          103,
          152,
          183,
          213,
          86,
          180,
          134,
          149,
          170,
          172,
          72,
          179,
          210
         ]
        }
       ],
       "layout": {
        "title": {
         "text": "Votes by candidate for: YORK COUNTY"
        },
        "xaxis": {
         "title": {
          "text": "Precincts"
         }
        },
        "yaxis": {
         "title": {
          "text": "Number of Votes"
         }
        }
       }
      },
      "text/html": [
       "<div id=\"53bf6e4c-4a8c-463d-85a0-607d8df88de9\" style=\"height: 525px; width: 100%;\" class=\"plotly-graph-div\"></div><script type=\"text/javascript\">require([\"plotly\"], function(Plotly) { window.PLOTLYENV=window.PLOTLYENV || {};window.PLOTLYENV.BASE_URL=\"https://plot.ly\";\n",
       "if (document.getElementById(\"53bf6e4c-4a8c-463d-85a0-607d8df88de9\")) {\n",
       "    Plotly.newPlot(\"53bf6e4c-4a8c-463d-85a0-607d8df88de9\", [{\"marker\": {\"color\": \"#122A7F\"}, \"name\": \"Trump\", \"x\": [\"# AB - Central Absentee Precinct\", \"502 - BETHEL\", \"303 - EDGEHILL\", \"103 - MAGRUDER\", \"101 - QUEENS LAKE\", \"401 - HARWOODS MILL\", \"403 - GRAFTON\", \"302 - YORKTOWN\", \"102 - WALLER MILL\", \"501 - TABB\", \"301 - SEAFORD\", \"202 - KILN CREEK\", \"402 - DARE\", \"## Provisional\", \"201 - COVENTRY\"], \"y\": [1712, 14, 812, 1127, 925, 1642, 817, 2019, 1191, 1066, 1674, 1792, 845, 1705, 1496], \"type\": \"bar\", \"uid\": \"3c8fa4f4-15e9-4d64-86e5-e6addd366d60\"}, {\"marker\": {\"color\": \"#008080\"}, \"name\": \"Clinton\", \"x\": [\"# AB - Central Absentee Precinct\", \"502 - BETHEL\", \"303 - EDGEHILL\", \"103 - MAGRUDER\", \"101 - QUEENS LAKE\", \"401 - HARWOODS MILL\", \"403 - GRAFTON\", \"302 - YORKTOWN\", \"102 - WALLER MILL\", \"501 - TABB\", \"301 - SEAFORD\", \"202 - KILN CREEK\", \"402 - DARE\", \"## Provisional\", \"201 - COVENTRY\"], \"y\": [1657, 10, 720, 847, 1516, 1208, 634, 618, 697, 1005, 714, 768, 466, 955, 1184], \"type\": \"bar\", \"uid\": \"72873577-ad44-424e-a4bf-e8b337f7fa99\"}, {\"marker\": {\"color\": \"#92A5E8\"}, \"name\": \"Other\", \"x\": [\"# AB - Central Absentee Precinct\", \"502 - BETHEL\", \"303 - EDGEHILL\", \"103 - MAGRUDER\", \"101 - QUEENS LAKE\", \"401 - HARWOODS MILL\", \"403 - GRAFTON\", \"302 - YORKTOWN\", \"102 - WALLER MILL\", \"501 - TABB\", \"301 - SEAFORD\", \"202 - KILN CREEK\", \"402 - DARE\", \"## Provisional\", \"201 - COVENTRY\"], \"y\": [275, 4, 103, 152, 183, 213, 86, 180, 134, 149, 170, 172, 72, 179, 210], \"type\": \"bar\", \"uid\": \"e3ff18dd-fc5d-4620-a2f1-a34f23d97fae\"}], {\"title\": {\"text\": \"Votes by candidate for: YORK COUNTY\"}, \"xaxis\": {\"title\": {\"text\": \"Precincts\"}}, \"yaxis\": {\"title\": {\"text\": \"Number of Votes\"}}}, {\"showLink\": false, \"linkText\": \"Export to plot.ly\", \"plotlyServerURL\": \"https://plot.ly\"}); \n",
       "}\n",
       "});</script><script type=\"text/javascript\">window.addEventListener(\"resize\", function(){if (document.getElementById(\"53bf6e4c-4a8c-463d-85a0-607d8df88de9\")) {window._Plotly.Plots.resize(document.getElementById(\"53bf6e4c-4a8c-463d-85a0-607d8df88de9\"));};})</script>"
      ],
      "text/vnd.plotly.v1+html": [
       "<div id=\"53bf6e4c-4a8c-463d-85a0-607d8df88de9\" style=\"height: 525px; width: 100%;\" class=\"plotly-graph-div\"></div><script type=\"text/javascript\">require([\"plotly\"], function(Plotly) { window.PLOTLYENV=window.PLOTLYENV || {};window.PLOTLYENV.BASE_URL=\"https://plot.ly\";\n",
       "if (document.getElementById(\"53bf6e4c-4a8c-463d-85a0-607d8df88de9\")) {\n",
       "    Plotly.newPlot(\"53bf6e4c-4a8c-463d-85a0-607d8df88de9\", [{\"marker\": {\"color\": \"#122A7F\"}, \"name\": \"Trump\", \"x\": [\"# AB - Central Absentee Precinct\", \"502 - BETHEL\", \"303 - EDGEHILL\", \"103 - MAGRUDER\", \"101 - QUEENS LAKE\", \"401 - HARWOODS MILL\", \"403 - GRAFTON\", \"302 - YORKTOWN\", \"102 - WALLER MILL\", \"501 - TABB\", \"301 - SEAFORD\", \"202 - KILN CREEK\", \"402 - DARE\", \"## Provisional\", \"201 - COVENTRY\"], \"y\": [1712, 14, 812, 1127, 925, 1642, 817, 2019, 1191, 1066, 1674, 1792, 845, 1705, 1496], \"type\": \"bar\", \"uid\": \"3c8fa4f4-15e9-4d64-86e5-e6addd366d60\"}, {\"marker\": {\"color\": \"#008080\"}, \"name\": \"Clinton\", \"x\": [\"# AB - Central Absentee Precinct\", \"502 - BETHEL\", \"303 - EDGEHILL\", \"103 - MAGRUDER\", \"101 - QUEENS LAKE\", \"401 - HARWOODS MILL\", \"403 - GRAFTON\", \"302 - YORKTOWN\", \"102 - WALLER MILL\", \"501 - TABB\", \"301 - SEAFORD\", \"202 - KILN CREEK\", \"402 - DARE\", \"## Provisional\", \"201 - COVENTRY\"], \"y\": [1657, 10, 720, 847, 1516, 1208, 634, 618, 697, 1005, 714, 768, 466, 955, 1184], \"type\": \"bar\", \"uid\": \"72873577-ad44-424e-a4bf-e8b337f7fa99\"}, {\"marker\": {\"color\": \"#92A5E8\"}, \"name\": \"Other\", \"x\": [\"# AB - Central Absentee Precinct\", \"502 - BETHEL\", \"303 - EDGEHILL\", \"103 - MAGRUDER\", \"101 - QUEENS LAKE\", \"401 - HARWOODS MILL\", \"403 - GRAFTON\", \"302 - YORKTOWN\", \"102 - WALLER MILL\", \"501 - TABB\", \"301 - SEAFORD\", \"202 - KILN CREEK\", \"402 - DARE\", \"## Provisional\", \"201 - COVENTRY\"], \"y\": [275, 4, 103, 152, 183, 213, 86, 180, 134, 149, 170, 172, 72, 179, 210], \"type\": \"bar\", \"uid\": \"e3ff18dd-fc5d-4620-a2f1-a34f23d97fae\"}], {\"title\": {\"text\": \"Votes by candidate for: YORK COUNTY\"}, \"xaxis\": {\"title\": {\"text\": \"Precincts\"}}, \"yaxis\": {\"title\": {\"text\": \"Number of Votes\"}}}, {\"showLink\": false, \"linkText\": \"Export to plot.ly\", \"plotlyServerURL\": \"https://plot.ly\"}); \n",
       "}\n",
       "});</script><script type=\"text/javascript\">window.addEventListener(\"resize\", function(){if (document.getElementById(\"53bf6e4c-4a8c-463d-85a0-607d8df88de9\")) {window._Plotly.Plots.resize(document.getElementById(\"53bf6e4c-4a8c-463d-85a0-607d8df88de9\"));};})</script>"
      ]
     },
     "metadata": {},
     "output_type": "display_data"
    }
   ],
   "source": [
    "jurisdiction_name='YORK COUNTY'\n",
    "juris_picker(jurisdiction_name)"
   ]
  },
  {
   "cell_type": "code",
   "execution_count": 144,
   "metadata": {},
   "outputs": [
    {
     "data": {
      "application/vnd.plotly.v1+json": {
       "config": {
        "linkText": "Export to plot.ly",
        "plotlyServerURL": "https://plot.ly",
        "showLink": false
       },
       "data": [
        {
         "marker": {
          "color": "#122A7F"
         },
         "name": "Trump",
         "type": "bar",
         "uid": "fb5523a0-f314-47dd-9408-45f41b5bde4c",
         "x": [
          "# AB - Central Absentee Precinct",
          "802 - MELFA",
          "701 - NANDUA",
          "## Provisional",
          "403 - SAXIS",
          "202 - GREENBACKVILLE",
          "803 - WACHAPREAGUE",
          "901 - PAINTER",
          "801 - BOBTOWN",
          "502 - RUE",
          "401 - BLOXOM",
          "301 - NEW CHURCH",
          "101 - CHINCOTEAGUE",
          "201 - ATLANTIC",
          "602 - TANGIER",
          "601 - ACCOMAC",
          "501 - MAPPSVILLE",
          "402 - PARKSLEY"
         ],
         "y": [
          644,
          1,
          1188,
          553,
          697,
          592,
          342,
          489,
          153,
          243,
          119,
          637,
          221,
          976,
          369,
          392,
          349,
          618
         ]
        },
        {
         "marker": {
          "color": "#008080"
         },
         "name": "Clinton",
         "type": "bar",
         "uid": "8fc970da-9e01-4ae9-b7ae-b608be4702a1",
         "x": [
          "# AB - Central Absentee Precinct",
          "802 - MELFA",
          "701 - NANDUA",
          "## Provisional",
          "403 - SAXIS",
          "202 - GREENBACKVILLE",
          "803 - WACHAPREAGUE",
          "901 - PAINTER",
          "801 - BOBTOWN",
          "502 - RUE",
          "401 - BLOXOM",
          "301 - NEW CHURCH",
          "101 - CHINCOTEAGUE",
          "201 - ATLANTIC",
          "602 - TANGIER",
          "601 - ACCOMAC",
          "501 - MAPPSVILLE",
          "402 - PARKSLEY"
         ],
         "y": [
          784,
          3,
          444,
          175,
          302,
          713,
          141,
          218,
          42,
          397,
          385,
          486,
          27,
          805,
          202,
          436,
          138,
          1042
         ]
        },
        {
         "marker": {
          "color": "#92A5E8"
         },
         "name": "Other",
         "type": "bar",
         "uid": "4fc03dfe-9896-49c3-bfce-f25d59d09d0f",
         "x": [
          "# AB - Central Absentee Precinct",
          "802 - MELFA",
          "701 - NANDUA",
          "## Provisional",
          "403 - SAXIS",
          "202 - GREENBACKVILLE",
          "803 - WACHAPREAGUE",
          "901 - PAINTER",
          "801 - BOBTOWN",
          "502 - RUE",
          "401 - BLOXOM",
          "301 - NEW CHURCH",
          "101 - CHINCOTEAGUE",
          "201 - ATLANTIC",
          "602 - TANGIER",
          "601 - ACCOMAC",
          "501 - MAPPSVILLE",
          "402 - PARKSLEY"
         ],
         "y": [
          59,
          2,
          48,
          22,
          31,
          33,
          13,
          29,
          5,
          23,
          17,
          41,
          5,
          75,
          23,
          22,
          9,
          38
         ]
        }
       ],
       "layout": {
        "title": {
         "text": "Votes by candidate for: ACCOMACK COUNTY"
        },
        "xaxis": {
         "title": {
          "text": "Precincts"
         }
        },
        "yaxis": {
         "title": {
          "text": "Number of Votes"
         }
        }
       }
      },
      "text/html": [
       "<div id=\"075628bc-2b55-40c9-b284-23713119937f\" style=\"height: 525px; width: 100%;\" class=\"plotly-graph-div\"></div><script type=\"text/javascript\">require([\"plotly\"], function(Plotly) { window.PLOTLYENV=window.PLOTLYENV || {};window.PLOTLYENV.BASE_URL=\"https://plot.ly\";\n",
       "if (document.getElementById(\"075628bc-2b55-40c9-b284-23713119937f\")) {\n",
       "    Plotly.newPlot(\"075628bc-2b55-40c9-b284-23713119937f\", [{\"marker\": {\"color\": \"#122A7F\"}, \"name\": \"Trump\", \"x\": [\"# AB - Central Absentee Precinct\", \"802 - MELFA\", \"701 - NANDUA\", \"## Provisional\", \"403 - SAXIS\", \"202 - GREENBACKVILLE\", \"803 - WACHAPREAGUE\", \"901 - PAINTER\", \"801 - BOBTOWN\", \"502 - RUE\", \"401 - BLOXOM\", \"301 - NEW CHURCH\", \"101 - CHINCOTEAGUE\", \"201 - ATLANTIC\", \"602 - TANGIER\", \"601 - ACCOMAC\", \"501 - MAPPSVILLE\", \"402 - PARKSLEY\"], \"y\": [644, 1, 1188, 553, 697, 592, 342, 489, 153, 243, 119, 637, 221, 976, 369, 392, 349, 618], \"type\": \"bar\", \"uid\": \"fb5523a0-f314-47dd-9408-45f41b5bde4c\"}, {\"marker\": {\"color\": \"#008080\"}, \"name\": \"Clinton\", \"x\": [\"# AB - Central Absentee Precinct\", \"802 - MELFA\", \"701 - NANDUA\", \"## Provisional\", \"403 - SAXIS\", \"202 - GREENBACKVILLE\", \"803 - WACHAPREAGUE\", \"901 - PAINTER\", \"801 - BOBTOWN\", \"502 - RUE\", \"401 - BLOXOM\", \"301 - NEW CHURCH\", \"101 - CHINCOTEAGUE\", \"201 - ATLANTIC\", \"602 - TANGIER\", \"601 - ACCOMAC\", \"501 - MAPPSVILLE\", \"402 - PARKSLEY\"], \"y\": [784, 3, 444, 175, 302, 713, 141, 218, 42, 397, 385, 486, 27, 805, 202, 436, 138, 1042], \"type\": \"bar\", \"uid\": \"8fc970da-9e01-4ae9-b7ae-b608be4702a1\"}, {\"marker\": {\"color\": \"#92A5E8\"}, \"name\": \"Other\", \"x\": [\"# AB - Central Absentee Precinct\", \"802 - MELFA\", \"701 - NANDUA\", \"## Provisional\", \"403 - SAXIS\", \"202 - GREENBACKVILLE\", \"803 - WACHAPREAGUE\", \"901 - PAINTER\", \"801 - BOBTOWN\", \"502 - RUE\", \"401 - BLOXOM\", \"301 - NEW CHURCH\", \"101 - CHINCOTEAGUE\", \"201 - ATLANTIC\", \"602 - TANGIER\", \"601 - ACCOMAC\", \"501 - MAPPSVILLE\", \"402 - PARKSLEY\"], \"y\": [59, 2, 48, 22, 31, 33, 13, 29, 5, 23, 17, 41, 5, 75, 23, 22, 9, 38], \"type\": \"bar\", \"uid\": \"4fc03dfe-9896-49c3-bfce-f25d59d09d0f\"}], {\"title\": {\"text\": \"Votes by candidate for: ACCOMACK COUNTY\"}, \"xaxis\": {\"title\": {\"text\": \"Precincts\"}}, \"yaxis\": {\"title\": {\"text\": \"Number of Votes\"}}}, {\"showLink\": false, \"linkText\": \"Export to plot.ly\", \"plotlyServerURL\": \"https://plot.ly\"}); \n",
       "}\n",
       "});</script><script type=\"text/javascript\">window.addEventListener(\"resize\", function(){if (document.getElementById(\"075628bc-2b55-40c9-b284-23713119937f\")) {window._Plotly.Plots.resize(document.getElementById(\"075628bc-2b55-40c9-b284-23713119937f\"));};})</script>"
      ],
      "text/vnd.plotly.v1+html": [
       "<div id=\"075628bc-2b55-40c9-b284-23713119937f\" style=\"height: 525px; width: 100%;\" class=\"plotly-graph-div\"></div><script type=\"text/javascript\">require([\"plotly\"], function(Plotly) { window.PLOTLYENV=window.PLOTLYENV || {};window.PLOTLYENV.BASE_URL=\"https://plot.ly\";\n",
       "if (document.getElementById(\"075628bc-2b55-40c9-b284-23713119937f\")) {\n",
       "    Plotly.newPlot(\"075628bc-2b55-40c9-b284-23713119937f\", [{\"marker\": {\"color\": \"#122A7F\"}, \"name\": \"Trump\", \"x\": [\"# AB - Central Absentee Precinct\", \"802 - MELFA\", \"701 - NANDUA\", \"## Provisional\", \"403 - SAXIS\", \"202 - GREENBACKVILLE\", \"803 - WACHAPREAGUE\", \"901 - PAINTER\", \"801 - BOBTOWN\", \"502 - RUE\", \"401 - BLOXOM\", \"301 - NEW CHURCH\", \"101 - CHINCOTEAGUE\", \"201 - ATLANTIC\", \"602 - TANGIER\", \"601 - ACCOMAC\", \"501 - MAPPSVILLE\", \"402 - PARKSLEY\"], \"y\": [644, 1, 1188, 553, 697, 592, 342, 489, 153, 243, 119, 637, 221, 976, 369, 392, 349, 618], \"type\": \"bar\", \"uid\": \"fb5523a0-f314-47dd-9408-45f41b5bde4c\"}, {\"marker\": {\"color\": \"#008080\"}, \"name\": \"Clinton\", \"x\": [\"# AB - Central Absentee Precinct\", \"802 - MELFA\", \"701 - NANDUA\", \"## Provisional\", \"403 - SAXIS\", \"202 - GREENBACKVILLE\", \"803 - WACHAPREAGUE\", \"901 - PAINTER\", \"801 - BOBTOWN\", \"502 - RUE\", \"401 - BLOXOM\", \"301 - NEW CHURCH\", \"101 - CHINCOTEAGUE\", \"201 - ATLANTIC\", \"602 - TANGIER\", \"601 - ACCOMAC\", \"501 - MAPPSVILLE\", \"402 - PARKSLEY\"], \"y\": [784, 3, 444, 175, 302, 713, 141, 218, 42, 397, 385, 486, 27, 805, 202, 436, 138, 1042], \"type\": \"bar\", \"uid\": \"8fc970da-9e01-4ae9-b7ae-b608be4702a1\"}, {\"marker\": {\"color\": \"#92A5E8\"}, \"name\": \"Other\", \"x\": [\"# AB - Central Absentee Precinct\", \"802 - MELFA\", \"701 - NANDUA\", \"## Provisional\", \"403 - SAXIS\", \"202 - GREENBACKVILLE\", \"803 - WACHAPREAGUE\", \"901 - PAINTER\", \"801 - BOBTOWN\", \"502 - RUE\", \"401 - BLOXOM\", \"301 - NEW CHURCH\", \"101 - CHINCOTEAGUE\", \"201 - ATLANTIC\", \"602 - TANGIER\", \"601 - ACCOMAC\", \"501 - MAPPSVILLE\", \"402 - PARKSLEY\"], \"y\": [59, 2, 48, 22, 31, 33, 13, 29, 5, 23, 17, 41, 5, 75, 23, 22, 9, 38], \"type\": \"bar\", \"uid\": \"4fc03dfe-9896-49c3-bfce-f25d59d09d0f\"}], {\"title\": {\"text\": \"Votes by candidate for: ACCOMACK COUNTY\"}, \"xaxis\": {\"title\": {\"text\": \"Precincts\"}}, \"yaxis\": {\"title\": {\"text\": \"Number of Votes\"}}}, {\"showLink\": false, \"linkText\": \"Export to plot.ly\", \"plotlyServerURL\": \"https://plot.ly\"}); \n",
       "}\n",
       "});</script><script type=\"text/javascript\">window.addEventListener(\"resize\", function(){if (document.getElementById(\"075628bc-2b55-40c9-b284-23713119937f\")) {window._Plotly.Plots.resize(document.getElementById(\"075628bc-2b55-40c9-b284-23713119937f\"));};})</script>"
      ]
     },
     "metadata": {},
     "output_type": "display_data"
    }
   ],
   "source": [
    "jurisdiction_name='ACCOMACK COUNTY'\n",
    "juris_picker(jurisdiction_name)"
   ]
  },
  {
   "cell_type": "code",
   "execution_count": null,
   "metadata": {},
   "outputs": [],
   "source": []
  }
 ],
 "metadata": {
  "kernelspec": {
   "display_name": "Python 3",
   "language": "python",
   "name": "python3"
  },
  "language_info": {
   "codemirror_mode": {
    "name": "ipython",
    "version": 3
   },
   "file_extension": ".py",
   "mimetype": "text/x-python",
   "name": "python",
   "nbconvert_exporter": "python",
   "pygments_lexer": "ipython3",
   "version": "3.6.4"
  }
 },
 "nbformat": 4,
 "nbformat_minor": 2
}
